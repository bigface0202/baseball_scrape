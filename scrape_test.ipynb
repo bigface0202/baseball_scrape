{
 "metadata": {
  "language_info": {
   "codemirror_mode": {
    "name": "ipython",
    "version": 3
   },
   "file_extension": ".py",
   "mimetype": "text/x-python",
   "name": "python",
   "nbconvert_exporter": "python",
   "pygments_lexer": "ipython3",
   "version": "3.8.6-final"
  },
  "orig_nbformat": 2,
  "kernelspec": {
   "name": "Python 3.8.6 64-bit ('kaihatsu')",
   "display_name": "Python 3.8.6 64-bit ('kaihatsu')",
   "metadata": {
    "interpreter": {
     "hash": "a60b20cd290a03d412d1265e81ae9af6a1774964ed4e0a9285005df83ab2125a"
    }
   }
  }
 },
 "nbformat": 4,
 "nbformat_minor": 2,
 "cells": [
  {
   "cell_type": "code",
   "execution_count": 2,
   "metadata": {},
   "outputs": [],
   "source": [
    "import pandas as pd\n",
    "import time\n",
    "import lxml\n",
    "import unicodedata\n",
    "import numpy as np\n",
    "import math"
   ]
  },
  {
   "cell_type": "code",
   "execution_count": 7,
   "metadata": {},
   "outputs": [],
   "source": [
    "url_list = ['https://www.nikkansports.com/baseball/professional/score/2020/cl2020092216.html',\n",
    "'https://www.nikkansports.com/baseball/professional/score/2020/cl2020092312.html',\n",
    "'https://www.nikkansports.com/baseball/professional/score/2020/cl2020092510.html',\n",
    "'https://www.nikkansports.com/baseball/professional/score/2020/cl2020092612.html',\n",
    "'https://www.nikkansports.com/baseball/professional/score/2020/cl2020092712.html'\n",
    "]\n",
    "list_num = [0, 0, 2, 2, 2]"
   ]
  },
  {
   "cell_type": "code",
   "execution_count": 16,
   "metadata": {},
   "outputs": [],
   "source": [
    "def get_batter_data(url, order):\n",
    "    data = pd.read_html(url)\n",
    "    time.sleep(2)\n",
    "    batter = data[order][(data[order][\"守備\"] != \"投\") & (data[order][\"守備\"] != \"(投)\")].reset_index(drop = True)[:-1]\n",
    "    return batter"
   ]
  },
  {
   "cell_type": "code",
   "execution_count": 11,
   "metadata": {},
   "outputs": [],
   "source": [
    "def columns_zen2han(data):\n",
    "    # 全角 -> 半角に変換する辞書\n",
    "    ZEN = \"\".join(chr(0xff01 + i) for i in range(94))\n",
    "    HAN = \"\".join(chr(0x21 + i) for i in range(94))\n",
    "    ZEN2HAN = str.maketrans(ZEN, HAN)\n",
    "    new_columns = []\n",
    "    for col in data.columns:\n",
    "        new_col = ''\n",
    "        for num_char in range(len(col)):\n",
    "            if unicodedata.east_asian_width(col[num_char]) == 'F':\n",
    "                new_char = col[num_char].translate(ZEN2HAN)\n",
    "                new_col += new_char\n",
    "            else:\n",
    "                new_col += col[num_char]\n",
    "        new_columns.append(new_col)\n",
    "    data.columns = new_columns\n",
    "    return data"
   ]
  },
  {
   "cell_type": "code",
   "execution_count": 81,
   "metadata": {},
   "outputs": [],
   "source": [
    "def is_nan(x):\n",
    "    return x != x"
   ]
  },
  {
   "cell_type": "code",
   "execution_count": 84,
   "metadata": {},
   "outputs": [],
   "source": [
    "def contents_zen2han(data):\n",
    "    # 全角 -> 半角に変換する辞書\n",
    "    ZEN = \"\".join(chr(0xff01 + i) for i in range(94))\n",
    "    HAN = \"\".join(chr(0x21 + i) for i in range(94))\n",
    "    ZEN2HAN = str.maketrans(ZEN, HAN)\n",
    "\n",
    "    cols = [\"打数\", \"得点\", \"安打\", \"打点\", \"HR\", \"1\", \"2\", \"3\", \"4\", \"5\", \"6\", \"7\", \"8\", \"9\"]\n",
    "    for col in cols:\n",
    "        new_contents = []\n",
    "        for content in data[col]:\n",
    "            output = ''\n",
    "            if is_nan(content):\n",
    "                output = content\n",
    "            elif content == \"……\":\n",
    "                new_char = np.nan\n",
    "                output = new_char\n",
    "            else:\n",
    "                for char_num in range(len(content)):\n",
    "                    if unicodedata.east_asian_width(content[char_num]) == 'F':\n",
    "                        new_char = content[char_num].translate(ZEN2HAN)\n",
    "                        output += new_char\n",
    "                    else:\n",
    "                        output += content[char_num]\n",
    "            new_contents.append(output)\n",
    "        data[col] = new_contents\n",
    "    return data"
   ]
  },
  {
   "cell_type": "code",
   "execution_count": 83,
   "metadata": {
    "tags": []
   },
   "outputs": [
    {
     "output_type": "stream",
     "name": "stdout",
     "text": "0\nThis is nan!\nThis is nan!\nThis is nan!\nThis is nan!\nThis is nan!\nThis is nan!\nThis is nan!\nThis is nan!\nThis is nan!\nThis is nan!\nThis is nan!\nThis is nan!\nThis is nan!\nThis is nan!\nThis is nan!\nThis is nan!\nThis is nan!\nThis is nan!\nThis is nan!\nThis is nan!\nThis is nan!\nThis is nan!\nThis is nan!\nThis is nan!\nThis is nan!\nThis is nan!\nThis is nan!\nThis is nan!\nThis is nan!\nThis is nan!\nThis is nan!\n1\nThis is nan!\nThis is nan!\nThis is nan!\nThis is nan!\nThis is nan!\nThis is nan!\nThis is nan!\nThis is nan!\nThis is nan!\nThis is nan!\nThis is nan!\nThis is nan!\nThis is nan!\nThis is nan!\nThis is nan!\n2\nThis is nan!\nThis is nan!\nThis is nan!\nThis is nan!\nThis is nan!\nThis is nan!\nThis is nan!\nThis is nan!\nThis is nan!\nThis is nan!\nThis is nan!\nThis is nan!\nThis is nan!\nThis is nan!\nThis is nan!\nThis is nan!\nThis is nan!\nThis is nan!\n3\nThis is nan!\nThis is nan!\nThis is nan!\nThis is nan!\nThis is nan!\nThis is nan!\n4\nThis is nan!\nThis is nan!\nThis is nan!\nThis is nan!\nThis is nan!\nThis is nan!\nThis is nan!\nThis is nan!\n"
    }
   ],
   "source": [
    "score_list = []\n",
    "for i in range(len(url_list)):\n",
    "    print(i)\n",
    "    batter = get_batter_data(url_list[i], list_num[i])\n",
    "    batter = columns_zen2han(batter)\n",
    "    batter = contents_zen2han(batter)\n",
    "    batter = batter.loc[:, [\"選手名\", \"打数\", \"得点\", \"安打\", \"打点\"]]\n",
    "    score_list.append(batter)"
   ]
  },
  {
   "cell_type": "code",
   "execution_count": 85,
   "metadata": {},
   "outputs": [
    {
     "output_type": "execute_result",
     "data": {
      "text/plain": "    選手名 打数 得点 安打 打点\n0   田中広  4  0  1  0\n1   菊池涼  4  0  1  0\n2    坂倉  4  0  1  0\n3    曽根  0  1  0  0\n4   鈴木誠  4  1  1  0\n5    松山  4  1  2  1\n6    上本  0  0  0  0\n7    長野  4  1  1  3\n8    堂林  4  0  0  0\n9    大盛  3  0  1  0\n10  ピレラ  1  0  0  0\n11   磯村  0  0  0  0",
      "text/html": "<div>\n<style scoped>\n    .dataframe tbody tr th:only-of-type {\n        vertical-align: middle;\n    }\n\n    .dataframe tbody tr th {\n        vertical-align: top;\n    }\n\n    .dataframe thead th {\n        text-align: right;\n    }\n</style>\n<table border=\"1\" class=\"dataframe\">\n  <thead>\n    <tr style=\"text-align: right;\">\n      <th></th>\n      <th>選手名</th>\n      <th>打数</th>\n      <th>得点</th>\n      <th>安打</th>\n      <th>打点</th>\n    </tr>\n  </thead>\n  <tbody>\n    <tr>\n      <th>0</th>\n      <td>田中広</td>\n      <td>4</td>\n      <td>0</td>\n      <td>1</td>\n      <td>0</td>\n    </tr>\n    <tr>\n      <th>1</th>\n      <td>菊池涼</td>\n      <td>4</td>\n      <td>0</td>\n      <td>1</td>\n      <td>0</td>\n    </tr>\n    <tr>\n      <th>2</th>\n      <td>坂倉</td>\n      <td>4</td>\n      <td>0</td>\n      <td>1</td>\n      <td>0</td>\n    </tr>\n    <tr>\n      <th>3</th>\n      <td>曽根</td>\n      <td>0</td>\n      <td>1</td>\n      <td>0</td>\n      <td>0</td>\n    </tr>\n    <tr>\n      <th>4</th>\n      <td>鈴木誠</td>\n      <td>4</td>\n      <td>1</td>\n      <td>1</td>\n      <td>0</td>\n    </tr>\n    <tr>\n      <th>5</th>\n      <td>松山</td>\n      <td>4</td>\n      <td>1</td>\n      <td>2</td>\n      <td>1</td>\n    </tr>\n    <tr>\n      <th>6</th>\n      <td>上本</td>\n      <td>0</td>\n      <td>0</td>\n      <td>0</td>\n      <td>0</td>\n    </tr>\n    <tr>\n      <th>7</th>\n      <td>長野</td>\n      <td>4</td>\n      <td>1</td>\n      <td>1</td>\n      <td>3</td>\n    </tr>\n    <tr>\n      <th>8</th>\n      <td>堂林</td>\n      <td>4</td>\n      <td>0</td>\n      <td>0</td>\n      <td>0</td>\n    </tr>\n    <tr>\n      <th>9</th>\n      <td>大盛</td>\n      <td>3</td>\n      <td>0</td>\n      <td>1</td>\n      <td>0</td>\n    </tr>\n    <tr>\n      <th>10</th>\n      <td>ピレラ</td>\n      <td>1</td>\n      <td>0</td>\n      <td>0</td>\n      <td>0</td>\n    </tr>\n    <tr>\n      <th>11</th>\n      <td>磯村</td>\n      <td>0</td>\n      <td>0</td>\n      <td>0</td>\n      <td>0</td>\n    </tr>\n  </tbody>\n</table>\n</div>"
     },
     "metadata": {},
     "execution_count": 85
    }
   ],
   "source": [
    "score_list[0]"
   ]
  },
  {
   "cell_type": "code",
   "execution_count": null,
   "metadata": {},
   "outputs": [],
   "source": []
  }
 ]
}