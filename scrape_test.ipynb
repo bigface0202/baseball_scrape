{
 "metadata": {
  "language_info": {
   "codemirror_mode": {
    "name": "ipython",
    "version": 3
   },
   "file_extension": ".py",
   "mimetype": "text/x-python",
   "name": "python",
   "nbconvert_exporter": "python",
   "pygments_lexer": "ipython3",
   "version": "3.8.6-final"
  },
  "orig_nbformat": 2,
  "kernelspec": {
   "name": "Python 3.8.6 64-bit ('kaihatsu': venv)",
   "display_name": "Python 3.8.6 64-bit ('kaihatsu': venv)",
   "metadata": {
    "interpreter": {
     "hash": "a60b20cd290a03d412d1265e81ae9af6a1774964ed4e0a9285005df83ab2125a"
    }
   }
  }
 },
 "nbformat": 4,
 "nbformat_minor": 2,
 "cells": [
  {
   "cell_type": "code",
   "execution_count": 1,
   "metadata": {},
   "outputs": [],
   "source": [
    "import pandas as pd\n",
    "import time\n",
    "import lxml\n",
    "import unicodedata\n",
    "import numpy as np\n",
    "import math"
   ]
  },
  {
   "cell_type": "code",
   "execution_count": 80,
   "metadata": {},
   "outputs": [],
   "source": [
    "url_list = ['https://www.nikkansports.com/baseball/professional/score/2020/cl2020092216.html',\n",
    "'https://www.nikkansports.com/baseball/professional/score/2020/cl2020092312.html',\n",
    "'https://www.nikkansports.com/baseball/professional/score/2020/cl2020092510.html',\n",
    "'https://www.nikkansports.com/baseball/professional/score/2020/cl2020092612.html',\n",
    "'https://www.nikkansports.com/baseball/professional/score/2020/cl2020092712.html'\n",
    "]\n",
    "datetime_list = [\"2020-09-22\", \"2020-09-23\", \"2020-09-25\", \"2020-09-26\", \"2020-09-27\"]\n",
    "list_num = [0, 0, 2, 2, 2]"
   ]
  },
  {
   "cell_type": "code",
   "execution_count": null,
   "metadata": {},
   "outputs": [],
   "source": [
    "url_list = [\n",
    "'https://www.nikkansports.com/baseball/professional/score/2020/cl2020061911.html'\n",
    "'https://www.nikkansports.com/baseball/professional/score/2020/cl2020062014.html'\n",
    "'https://www.nikkansports.com/baseball/professional/score/2020/cl2020062114.html'\n",
    "'https://www.nikkansports.com/baseball/professional/score/2020/cl2020062312.html'\n",
    "'https://www.nikkansports.com/baseball/professional/score/2020/cl2020062411.html'\n",
    "'https://www.nikkansports.com/baseball/professional/score/2020/cl2020062509.html'\n",
    "'https://www.nikkansports.com/baseball/professional/score/2020/cl2020062612.html'\n",
    "'https://www.nikkansports.com/baseball/professional/score/2020/cl2020062715.html'\n",
    "'https://www.nikkansports.com/baseball/professional/score/2020/cl2020062815.html'\n",
    "]\n",
    "list_num = [\n",
    "    0, 0, 0, 0, 0, 0, 0, 0, 0, \n",
    "    ]"
   ]
  },
  {
   "cell_type": "code",
   "execution_count": null,
   "metadata": {},
   "outputs": [],
   "source": []
  },
  {
   "cell_type": "code",
   "execution_count": 3,
   "metadata": {},
   "outputs": [],
   "source": [
    "def get_batter_data(url, order):\n",
    "    data = pd.read_html(url)\n",
    "    time.sleep(2)\n",
    "    batter = data[order][(data[order][\"守備\"] != \"投\") & (data[order][\"守備\"] != \"(投)\")].reset_index(drop = True)[:-1]\n",
    "    return batter"
   ]
  },
  {
   "cell_type": "code",
   "execution_count": 4,
   "metadata": {},
   "outputs": [],
   "source": [
    "def columns_zen2han(data):\n",
    "    # 全角 -> 半角に変換する辞書\n",
    "    ZEN = \"\".join(chr(0xff01 + i) for i in range(94))\n",
    "    HAN = \"\".join(chr(0x21 + i) for i in range(94))\n",
    "    ZEN2HAN = str.maketrans(ZEN, HAN)\n",
    "    new_columns = []\n",
    "    for col in data.columns:\n",
    "        new_col = ''\n",
    "        for num_char in range(len(col)):\n",
    "            if unicodedata.east_asian_width(col[num_char]) == 'F':\n",
    "                new_char = col[num_char].translate(ZEN2HAN)\n",
    "                new_col += new_char\n",
    "            else:\n",
    "                new_col += col[num_char]\n",
    "        new_columns.append(new_col)\n",
    "    data.columns = new_columns\n",
    "    return data"
   ]
  },
  {
   "cell_type": "code",
   "execution_count": 5,
   "metadata": {},
   "outputs": [],
   "source": [
    "def is_nan(x):\n",
    "    return x != x"
   ]
  },
  {
   "cell_type": "code",
   "execution_count": 6,
   "metadata": {},
   "outputs": [],
   "source": [
    "def contents_zen2han(data):\n",
    "    # 全角 -> 半角に変換する辞書\n",
    "    ZEN = \"\".join(chr(0xff01 + i) for i in range(94))\n",
    "    HAN = \"\".join(chr(0x21 + i) for i in range(94))\n",
    "    ZEN2HAN = str.maketrans(ZEN, HAN)\n",
    "\n",
    "    cols = [\"打数\", \"得点\", \"安打\", \"打点\", \"HR\", \"1\", \"2\", \"3\", \"4\", \"5\", \"6\", \"7\", \"8\", \"9\"]\n",
    "    for col in cols:\n",
    "        new_contents = []\n",
    "        for content in data[col]:\n",
    "            output = ''\n",
    "            if is_nan(content):\n",
    "                output = content\n",
    "            elif content == \"……\":\n",
    "                new_char = np.nan\n",
    "                output = new_char\n",
    "            else:\n",
    "                for char_num in range(len(content)):\n",
    "                    if unicodedata.east_asian_width(content[char_num]) == 'F':\n",
    "                        new_char = content[char_num].translate(ZEN2HAN)\n",
    "                        output += new_char\n",
    "                    else:\n",
    "                        output += content[char_num]\n",
    "            new_contents.append(output)\n",
    "        data[col] = new_contents\n",
    "    return data"
   ]
  },
  {
   "cell_type": "code",
   "execution_count": 88,
   "metadata": {
    "tags": []
   },
   "outputs": [
    {
     "output_type": "stream",
     "name": "stdout",
     "text": "0\n1\n2\n3\n4\n"
    }
   ],
   "source": [
    "score_list = []\n",
    "desired = [\"選手名\", \"打数\", \"得点\", \"安打\", \"打点\"]\n",
    "for i in range(len(url_list)):\n",
    "    print(i)\n",
    "    batter = get_batter_data(url_list[i], list_num[i])\n",
    "    batter = columns_zen2han(batter)\n",
    "    batter = contents_zen2han(batter)\n",
    "    batter = batter.loc[:, desired]\n",
    "    for j in desired[1:]:\n",
    "        batter[j] = batter[j].astype(int)\n",
    "    batter[\"日付\"] = pd.to_datetime([datetime_list[i] for k in range(len(batter))])\n",
    "    score_list.append(batter)"
   ]
  },
  {
   "cell_type": "code",
   "execution_count": 104,
   "metadata": {},
   "outputs": [
    {
     "output_type": "execute_result",
     "data": {
      "text/plain": "   選手名  打数  得点  安打  打点         日付\n0  田中広   4   0   1   0 2020-09-22\n1  菊池涼   4   0   1   0 2020-09-22\n2   坂倉   4   0   1   0 2020-09-22\n3   曽根   0   1   0   0 2020-09-22\n4  鈴木誠   4   1   1   0 2020-09-22",
      "text/html": "<div>\n<style scoped>\n    .dataframe tbody tr th:only-of-type {\n        vertical-align: middle;\n    }\n\n    .dataframe tbody tr th {\n        vertical-align: top;\n    }\n\n    .dataframe thead th {\n        text-align: right;\n    }\n</style>\n<table border=\"1\" class=\"dataframe\">\n  <thead>\n    <tr style=\"text-align: right;\">\n      <th></th>\n      <th>選手名</th>\n      <th>打数</th>\n      <th>得点</th>\n      <th>安打</th>\n      <th>打点</th>\n      <th>日付</th>\n    </tr>\n  </thead>\n  <tbody>\n    <tr>\n      <th>0</th>\n      <td>田中広</td>\n      <td>4</td>\n      <td>0</td>\n      <td>1</td>\n      <td>0</td>\n      <td>2020-09-22</td>\n    </tr>\n    <tr>\n      <th>1</th>\n      <td>菊池涼</td>\n      <td>4</td>\n      <td>0</td>\n      <td>1</td>\n      <td>0</td>\n      <td>2020-09-22</td>\n    </tr>\n    <tr>\n      <th>2</th>\n      <td>坂倉</td>\n      <td>4</td>\n      <td>0</td>\n      <td>1</td>\n      <td>0</td>\n      <td>2020-09-22</td>\n    </tr>\n    <tr>\n      <th>3</th>\n      <td>曽根</td>\n      <td>0</td>\n      <td>1</td>\n      <td>0</td>\n      <td>0</td>\n      <td>2020-09-22</td>\n    </tr>\n    <tr>\n      <th>4</th>\n      <td>鈴木誠</td>\n      <td>4</td>\n      <td>1</td>\n      <td>1</td>\n      <td>0</td>\n      <td>2020-09-22</td>\n    </tr>\n  </tbody>\n</table>\n</div>"
     },
     "metadata": {},
     "execution_count": 104
    }
   ],
   "source": [
    "score_list[0].head()"
   ]
  },
  {
   "cell_type": "code",
   "execution_count": 111,
   "metadata": {},
   "outputs": [],
   "source": [
    "test = pd.concat([score_list[i] for i in range(5)], ignore_index=True)"
   ]
  },
  {
   "cell_type": "code",
   "execution_count": 112,
   "metadata": {},
   "outputs": [],
   "source": [
    "test2 = test.groupby([\"日付\",\"選手名\"]).sum()"
   ]
  },
  {
   "cell_type": "code",
   "execution_count": 113,
   "metadata": {},
   "outputs": [
    {
     "output_type": "execute_result",
     "data": {
      "text/plain": "                打数  得点  安打  打点\n日付         選手名                \n2020-09-22 ピレラ   1   0   0   0\n           上本    0   0   0   0\n           坂倉    4   0   1   0\n           堂林    4   0   0   0\n           大盛    3   0   1   0\n           曽根    0   1   0   0\n           松山    4   1   2   1\n           田中広   4   0   1   0\n           磯村    0   0   0   0\n           菊池涼   4   0   1   0\n           鈴木誠   4   1   1   0\n           長野    4   1   1   3\n2020-09-23 ピレラ   4   2   1   2\n           メヒア   1   0   0   0\n           上本    0   0   0   0\n           坂倉    1   0   0   0\n           堂林    2   0   1   1\n           松山    2   1   1   0\n           正随    1   0   0   0\n           田中広   4   0   1   0\n           磯村    3   0   0   0\n           菊池涼   4   0   0   0\n           鈴木誠   4   0   0   0\n           長野    4   0   1   0\n2020-09-25 ピレラ   3   0   2   1\n           三好    0   0   0   0\n           坂倉    4   0   0   0\n           堂林    4   0   0   0\n           大盛    3   0   1   1\n           松山    4   1   2   1\n           田中広   4   1   1   2\n           菊池涼   4   0   0   0\n           野間    1   0   0   0\n           鈴木誠   4   2   3   0\n2020-09-26 ピレラ   1   0   0   0\n           メヒア   1   0   0   0\n           坂倉    3   0   0   0\n           堂林    4   0   1   0\n           松山    3   0   1   0\n           田中広   4   1   1   1\n           菊池涼   4   0   1   0\n           野間    3   1   1   0\n           鈴木誠   4   0   1   1\n           長野    4   0   0   0\n2020-09-27 ピレラ   4   0   0   0\n           メヒア   3   0   0   0\n           坂倉    1   0   0   0\n           大盛    1   0   0   0\n           松山    3   1   1   1\n           田中広   4   0   0   0\n           磯村    2   0   0   0\n           菊池涼   3   0   1   0\n           野間    3   0   0   0\n           鈴木誠   3   0   1   0\n           長野    1   0   0   0",
      "text/html": "<div>\n<style scoped>\n    .dataframe tbody tr th:only-of-type {\n        vertical-align: middle;\n    }\n\n    .dataframe tbody tr th {\n        vertical-align: top;\n    }\n\n    .dataframe thead th {\n        text-align: right;\n    }\n</style>\n<table border=\"1\" class=\"dataframe\">\n  <thead>\n    <tr style=\"text-align: right;\">\n      <th></th>\n      <th></th>\n      <th>打数</th>\n      <th>得点</th>\n      <th>安打</th>\n      <th>打点</th>\n    </tr>\n    <tr>\n      <th>日付</th>\n      <th>選手名</th>\n      <th></th>\n      <th></th>\n      <th></th>\n      <th></th>\n    </tr>\n  </thead>\n  <tbody>\n    <tr>\n      <th rowspan=\"12\" valign=\"top\">2020-09-22</th>\n      <th>ピレラ</th>\n      <td>1</td>\n      <td>0</td>\n      <td>0</td>\n      <td>0</td>\n    </tr>\n    <tr>\n      <th>上本</th>\n      <td>0</td>\n      <td>0</td>\n      <td>0</td>\n      <td>0</td>\n    </tr>\n    <tr>\n      <th>坂倉</th>\n      <td>4</td>\n      <td>0</td>\n      <td>1</td>\n      <td>0</td>\n    </tr>\n    <tr>\n      <th>堂林</th>\n      <td>4</td>\n      <td>0</td>\n      <td>0</td>\n      <td>0</td>\n    </tr>\n    <tr>\n      <th>大盛</th>\n      <td>3</td>\n      <td>0</td>\n      <td>1</td>\n      <td>0</td>\n    </tr>\n    <tr>\n      <th>曽根</th>\n      <td>0</td>\n      <td>1</td>\n      <td>0</td>\n      <td>0</td>\n    </tr>\n    <tr>\n      <th>松山</th>\n      <td>4</td>\n      <td>1</td>\n      <td>2</td>\n      <td>1</td>\n    </tr>\n    <tr>\n      <th>田中広</th>\n      <td>4</td>\n      <td>0</td>\n      <td>1</td>\n      <td>0</td>\n    </tr>\n    <tr>\n      <th>磯村</th>\n      <td>0</td>\n      <td>0</td>\n      <td>0</td>\n      <td>0</td>\n    </tr>\n    <tr>\n      <th>菊池涼</th>\n      <td>4</td>\n      <td>0</td>\n      <td>1</td>\n      <td>0</td>\n    </tr>\n    <tr>\n      <th>鈴木誠</th>\n      <td>4</td>\n      <td>1</td>\n      <td>1</td>\n      <td>0</td>\n    </tr>\n    <tr>\n      <th>長野</th>\n      <td>4</td>\n      <td>1</td>\n      <td>1</td>\n      <td>3</td>\n    </tr>\n    <tr>\n      <th rowspan=\"12\" valign=\"top\">2020-09-23</th>\n      <th>ピレラ</th>\n      <td>4</td>\n      <td>2</td>\n      <td>1</td>\n      <td>2</td>\n    </tr>\n    <tr>\n      <th>メヒア</th>\n      <td>1</td>\n      <td>0</td>\n      <td>0</td>\n      <td>0</td>\n    </tr>\n    <tr>\n      <th>上本</th>\n      <td>0</td>\n      <td>0</td>\n      <td>0</td>\n      <td>0</td>\n    </tr>\n    <tr>\n      <th>坂倉</th>\n      <td>1</td>\n      <td>0</td>\n      <td>0</td>\n      <td>0</td>\n    </tr>\n    <tr>\n      <th>堂林</th>\n      <td>2</td>\n      <td>0</td>\n      <td>1</td>\n      <td>1</td>\n    </tr>\n    <tr>\n      <th>松山</th>\n      <td>2</td>\n      <td>1</td>\n      <td>1</td>\n      <td>0</td>\n    </tr>\n    <tr>\n      <th>正随</th>\n      <td>1</td>\n      <td>0</td>\n      <td>0</td>\n      <td>0</td>\n    </tr>\n    <tr>\n      <th>田中広</th>\n      <td>4</td>\n      <td>0</td>\n      <td>1</td>\n      <td>0</td>\n    </tr>\n    <tr>\n      <th>磯村</th>\n      <td>3</td>\n      <td>0</td>\n      <td>0</td>\n      <td>0</td>\n    </tr>\n    <tr>\n      <th>菊池涼</th>\n      <td>4</td>\n      <td>0</td>\n      <td>0</td>\n      <td>0</td>\n    </tr>\n    <tr>\n      <th>鈴木誠</th>\n      <td>4</td>\n      <td>0</td>\n      <td>0</td>\n      <td>0</td>\n    </tr>\n    <tr>\n      <th>長野</th>\n      <td>4</td>\n      <td>0</td>\n      <td>1</td>\n      <td>0</td>\n    </tr>\n    <tr>\n      <th rowspan=\"10\" valign=\"top\">2020-09-25</th>\n      <th>ピレラ</th>\n      <td>3</td>\n      <td>0</td>\n      <td>2</td>\n      <td>1</td>\n    </tr>\n    <tr>\n      <th>三好</th>\n      <td>0</td>\n      <td>0</td>\n      <td>0</td>\n      <td>0</td>\n    </tr>\n    <tr>\n      <th>坂倉</th>\n      <td>4</td>\n      <td>0</td>\n      <td>0</td>\n      <td>0</td>\n    </tr>\n    <tr>\n      <th>堂林</th>\n      <td>4</td>\n      <td>0</td>\n      <td>0</td>\n      <td>0</td>\n    </tr>\n    <tr>\n      <th>大盛</th>\n      <td>3</td>\n      <td>0</td>\n      <td>1</td>\n      <td>1</td>\n    </tr>\n    <tr>\n      <th>松山</th>\n      <td>4</td>\n      <td>1</td>\n      <td>2</td>\n      <td>1</td>\n    </tr>\n    <tr>\n      <th>田中広</th>\n      <td>4</td>\n      <td>1</td>\n      <td>1</td>\n      <td>2</td>\n    </tr>\n    <tr>\n      <th>菊池涼</th>\n      <td>4</td>\n      <td>0</td>\n      <td>0</td>\n      <td>0</td>\n    </tr>\n    <tr>\n      <th>野間</th>\n      <td>1</td>\n      <td>0</td>\n      <td>0</td>\n      <td>0</td>\n    </tr>\n    <tr>\n      <th>鈴木誠</th>\n      <td>4</td>\n      <td>2</td>\n      <td>3</td>\n      <td>0</td>\n    </tr>\n    <tr>\n      <th rowspan=\"10\" valign=\"top\">2020-09-26</th>\n      <th>ピレラ</th>\n      <td>1</td>\n      <td>0</td>\n      <td>0</td>\n      <td>0</td>\n    </tr>\n    <tr>\n      <th>メヒア</th>\n      <td>1</td>\n      <td>0</td>\n      <td>0</td>\n      <td>0</td>\n    </tr>\n    <tr>\n      <th>坂倉</th>\n      <td>3</td>\n      <td>0</td>\n      <td>0</td>\n      <td>0</td>\n    </tr>\n    <tr>\n      <th>堂林</th>\n      <td>4</td>\n      <td>0</td>\n      <td>1</td>\n      <td>0</td>\n    </tr>\n    <tr>\n      <th>松山</th>\n      <td>3</td>\n      <td>0</td>\n      <td>1</td>\n      <td>0</td>\n    </tr>\n    <tr>\n      <th>田中広</th>\n      <td>4</td>\n      <td>1</td>\n      <td>1</td>\n      <td>1</td>\n    </tr>\n    <tr>\n      <th>菊池涼</th>\n      <td>4</td>\n      <td>0</td>\n      <td>1</td>\n      <td>0</td>\n    </tr>\n    <tr>\n      <th>野間</th>\n      <td>3</td>\n      <td>1</td>\n      <td>1</td>\n      <td>0</td>\n    </tr>\n    <tr>\n      <th>鈴木誠</th>\n      <td>4</td>\n      <td>0</td>\n      <td>1</td>\n      <td>1</td>\n    </tr>\n    <tr>\n      <th>長野</th>\n      <td>4</td>\n      <td>0</td>\n      <td>0</td>\n      <td>0</td>\n    </tr>\n    <tr>\n      <th rowspan=\"11\" valign=\"top\">2020-09-27</th>\n      <th>ピレラ</th>\n      <td>4</td>\n      <td>0</td>\n      <td>0</td>\n      <td>0</td>\n    </tr>\n    <tr>\n      <th>メヒア</th>\n      <td>3</td>\n      <td>0</td>\n      <td>0</td>\n      <td>0</td>\n    </tr>\n    <tr>\n      <th>坂倉</th>\n      <td>1</td>\n      <td>0</td>\n      <td>0</td>\n      <td>0</td>\n    </tr>\n    <tr>\n      <th>大盛</th>\n      <td>1</td>\n      <td>0</td>\n      <td>0</td>\n      <td>0</td>\n    </tr>\n    <tr>\n      <th>松山</th>\n      <td>3</td>\n      <td>1</td>\n      <td>1</td>\n      <td>1</td>\n    </tr>\n    <tr>\n      <th>田中広</th>\n      <td>4</td>\n      <td>0</td>\n      <td>0</td>\n      <td>0</td>\n    </tr>\n    <tr>\n      <th>磯村</th>\n      <td>2</td>\n      <td>0</td>\n      <td>0</td>\n      <td>0</td>\n    </tr>\n    <tr>\n      <th>菊池涼</th>\n      <td>3</td>\n      <td>0</td>\n      <td>1</td>\n      <td>0</td>\n    </tr>\n    <tr>\n      <th>野間</th>\n      <td>3</td>\n      <td>0</td>\n      <td>0</td>\n      <td>0</td>\n    </tr>\n    <tr>\n      <th>鈴木誠</th>\n      <td>3</td>\n      <td>0</td>\n      <td>1</td>\n      <td>0</td>\n    </tr>\n    <tr>\n      <th>長野</th>\n      <td>1</td>\n      <td>0</td>\n      <td>0</td>\n      <td>0</td>\n    </tr>\n  </tbody>\n</table>\n</div>"
     },
     "metadata": {},
     "execution_count": 113
    }
   ],
   "source": [
    "test2"
   ]
  },
  {
   "cell_type": "code",
   "execution_count": 114,
   "metadata": {},
   "outputs": [
    {
     "output_type": "execute_result",
     "data": {
      "text/plain": "     打数  得点  安打  打点\n選手名                \nピレラ  13   2   3   3\nメヒア   5   0   0   0\n三好    0   0   0   0\n上本    0   0   0   0\n坂倉   13   0   1   0\n堂林   14   0   2   1\n大盛    7   0   2   1\n曽根    0   1   0   0\n松山   16   4   7   3\n正随    1   0   0   0\n田中広  20   2   4   3\n磯村    5   0   0   0\n菊池涼  19   0   3   0\n野間    7   1   1   0\n鈴木誠  19   3   6   1\n長野   13   1   2   3",
      "text/html": "<div>\n<style scoped>\n    .dataframe tbody tr th:only-of-type {\n        vertical-align: middle;\n    }\n\n    .dataframe tbody tr th {\n        vertical-align: top;\n    }\n\n    .dataframe thead th {\n        text-align: right;\n    }\n</style>\n<table border=\"1\" class=\"dataframe\">\n  <thead>\n    <tr style=\"text-align: right;\">\n      <th></th>\n      <th>打数</th>\n      <th>得点</th>\n      <th>安打</th>\n      <th>打点</th>\n    </tr>\n    <tr>\n      <th>選手名</th>\n      <th></th>\n      <th></th>\n      <th></th>\n      <th></th>\n    </tr>\n  </thead>\n  <tbody>\n    <tr>\n      <th>ピレラ</th>\n      <td>13</td>\n      <td>2</td>\n      <td>3</td>\n      <td>3</td>\n    </tr>\n    <tr>\n      <th>メヒア</th>\n      <td>5</td>\n      <td>0</td>\n      <td>0</td>\n      <td>0</td>\n    </tr>\n    <tr>\n      <th>三好</th>\n      <td>0</td>\n      <td>0</td>\n      <td>0</td>\n      <td>0</td>\n    </tr>\n    <tr>\n      <th>上本</th>\n      <td>0</td>\n      <td>0</td>\n      <td>0</td>\n      <td>0</td>\n    </tr>\n    <tr>\n      <th>坂倉</th>\n      <td>13</td>\n      <td>0</td>\n      <td>1</td>\n      <td>0</td>\n    </tr>\n    <tr>\n      <th>堂林</th>\n      <td>14</td>\n      <td>0</td>\n      <td>2</td>\n      <td>1</td>\n    </tr>\n    <tr>\n      <th>大盛</th>\n      <td>7</td>\n      <td>0</td>\n      <td>2</td>\n      <td>1</td>\n    </tr>\n    <tr>\n      <th>曽根</th>\n      <td>0</td>\n      <td>1</td>\n      <td>0</td>\n      <td>0</td>\n    </tr>\n    <tr>\n      <th>松山</th>\n      <td>16</td>\n      <td>4</td>\n      <td>7</td>\n      <td>3</td>\n    </tr>\n    <tr>\n      <th>正随</th>\n      <td>1</td>\n      <td>0</td>\n      <td>0</td>\n      <td>0</td>\n    </tr>\n    <tr>\n      <th>田中広</th>\n      <td>20</td>\n      <td>2</td>\n      <td>4</td>\n      <td>3</td>\n    </tr>\n    <tr>\n      <th>磯村</th>\n      <td>5</td>\n      <td>0</td>\n      <td>0</td>\n      <td>0</td>\n    </tr>\n    <tr>\n      <th>菊池涼</th>\n      <td>19</td>\n      <td>0</td>\n      <td>3</td>\n      <td>0</td>\n    </tr>\n    <tr>\n      <th>野間</th>\n      <td>7</td>\n      <td>1</td>\n      <td>1</td>\n      <td>0</td>\n    </tr>\n    <tr>\n      <th>鈴木誠</th>\n      <td>19</td>\n      <td>3</td>\n      <td>6</td>\n      <td>1</td>\n    </tr>\n    <tr>\n      <th>長野</th>\n      <td>13</td>\n      <td>1</td>\n      <td>2</td>\n      <td>3</td>\n    </tr>\n  </tbody>\n</table>\n</div>"
     },
     "metadata": {},
     "execution_count": 114
    }
   ],
   "source": [
    "test2.loc['2020-09-22':'2020-09-27'].groupby(\"選手名\").sum()"
   ]
  },
  {
   "cell_type": "code",
   "execution_count": 34,
   "metadata": {},
   "outputs": [],
   "source": [
    "# 打撃成績を抽出\n",
    "scores = batter.iloc[:, 9:]\n",
    "scores.index = batter[\"選手名\"]\n",
    "scores = scores.T"
   ]
  },
  {
   "cell_type": "code",
   "execution_count": 35,
   "metadata": {},
   "outputs": [
    {
     "output_type": "execute_result",
     "data": {
      "text/plain": "選手名  田中広  菊池涼   坂倉   曽根  鈴木誠   松山   上本   長野   堂林   大盛  ピレラ   磯村\n1     三振   三ゴ   遊飛  NaN  NaN  NaN  NaN  NaN  NaN  NaN  NaN  NaN\n2    NaN  NaN  NaN  NaN   右飛   遊ゴ  NaN   右飛  NaN  NaN  NaN  NaN\n3     三振  NaN  NaN  NaN  NaN  NaN  NaN  NaN   遊ゴ   左2  NaN  NaN\n4    NaN   左安   二併  NaN   中安   左安  NaN   左本   二ゴ  NaN  NaN  NaN\n5     一ゴ  NaN  NaN  NaN  NaN  NaN  NaN  NaN  NaN   中飛  NaN  NaN\n6    NaN   二ゴ   三振  NaN   左飛  NaN  NaN  NaN  NaN  NaN  NaN  NaN\n7    NaN  NaN  NaN  NaN  NaN   遊直  NaN   三振   中飛  NaN  NaN  NaN\n8     左安   三振  NaN  NaN  NaN  NaN  NaN  NaN  NaN   三振   中飛  NaN\n9    NaN  NaN   中安  NaN   二飛   左安  NaN   二直   中飛  NaN  NaN  NaN",
      "text/html": "<div>\n<style scoped>\n    .dataframe tbody tr th:only-of-type {\n        vertical-align: middle;\n    }\n\n    .dataframe tbody tr th {\n        vertical-align: top;\n    }\n\n    .dataframe thead th {\n        text-align: right;\n    }\n</style>\n<table border=\"1\" class=\"dataframe\">\n  <thead>\n    <tr style=\"text-align: right;\">\n      <th>選手名</th>\n      <th>田中広</th>\n      <th>菊池涼</th>\n      <th>坂倉</th>\n      <th>曽根</th>\n      <th>鈴木誠</th>\n      <th>松山</th>\n      <th>上本</th>\n      <th>長野</th>\n      <th>堂林</th>\n      <th>大盛</th>\n      <th>ピレラ</th>\n      <th>磯村</th>\n    </tr>\n  </thead>\n  <tbody>\n    <tr>\n      <th>1</th>\n      <td>三振</td>\n      <td>三ゴ</td>\n      <td>遊飛</td>\n      <td>NaN</td>\n      <td>NaN</td>\n      <td>NaN</td>\n      <td>NaN</td>\n      <td>NaN</td>\n      <td>NaN</td>\n      <td>NaN</td>\n      <td>NaN</td>\n      <td>NaN</td>\n    </tr>\n    <tr>\n      <th>2</th>\n      <td>NaN</td>\n      <td>NaN</td>\n      <td>NaN</td>\n      <td>NaN</td>\n      <td>右飛</td>\n      <td>遊ゴ</td>\n      <td>NaN</td>\n      <td>右飛</td>\n      <td>NaN</td>\n      <td>NaN</td>\n      <td>NaN</td>\n      <td>NaN</td>\n    </tr>\n    <tr>\n      <th>3</th>\n      <td>三振</td>\n      <td>NaN</td>\n      <td>NaN</td>\n      <td>NaN</td>\n      <td>NaN</td>\n      <td>NaN</td>\n      <td>NaN</td>\n      <td>NaN</td>\n      <td>遊ゴ</td>\n      <td>左2</td>\n      <td>NaN</td>\n      <td>NaN</td>\n    </tr>\n    <tr>\n      <th>4</th>\n      <td>NaN</td>\n      <td>左安</td>\n      <td>二併</td>\n      <td>NaN</td>\n      <td>中安</td>\n      <td>左安</td>\n      <td>NaN</td>\n      <td>左本</td>\n      <td>二ゴ</td>\n      <td>NaN</td>\n      <td>NaN</td>\n      <td>NaN</td>\n    </tr>\n    <tr>\n      <th>5</th>\n      <td>一ゴ</td>\n      <td>NaN</td>\n      <td>NaN</td>\n      <td>NaN</td>\n      <td>NaN</td>\n      <td>NaN</td>\n      <td>NaN</td>\n      <td>NaN</td>\n      <td>NaN</td>\n      <td>中飛</td>\n      <td>NaN</td>\n      <td>NaN</td>\n    </tr>\n    <tr>\n      <th>6</th>\n      <td>NaN</td>\n      <td>二ゴ</td>\n      <td>三振</td>\n      <td>NaN</td>\n      <td>左飛</td>\n      <td>NaN</td>\n      <td>NaN</td>\n      <td>NaN</td>\n      <td>NaN</td>\n      <td>NaN</td>\n      <td>NaN</td>\n      <td>NaN</td>\n    </tr>\n    <tr>\n      <th>7</th>\n      <td>NaN</td>\n      <td>NaN</td>\n      <td>NaN</td>\n      <td>NaN</td>\n      <td>NaN</td>\n      <td>遊直</td>\n      <td>NaN</td>\n      <td>三振</td>\n      <td>中飛</td>\n      <td>NaN</td>\n      <td>NaN</td>\n      <td>NaN</td>\n    </tr>\n    <tr>\n      <th>8</th>\n      <td>左安</td>\n      <td>三振</td>\n      <td>NaN</td>\n      <td>NaN</td>\n      <td>NaN</td>\n      <td>NaN</td>\n      <td>NaN</td>\n      <td>NaN</td>\n      <td>NaN</td>\n      <td>三振</td>\n      <td>中飛</td>\n      <td>NaN</td>\n    </tr>\n    <tr>\n      <th>9</th>\n      <td>NaN</td>\n      <td>NaN</td>\n      <td>中安</td>\n      <td>NaN</td>\n      <td>二飛</td>\n      <td>左安</td>\n      <td>NaN</td>\n      <td>二直</td>\n      <td>中飛</td>\n      <td>NaN</td>\n      <td>NaN</td>\n      <td>NaN</td>\n    </tr>\n  </tbody>\n</table>\n</div>"
     },
     "metadata": {},
     "execution_count": 35
    }
   ],
   "source": [
    "scores"
   ]
  },
  {
   "cell_type": "code",
   "execution_count": 46,
   "metadata": {
    "tags": []
   },
   "outputs": [],
   "source": [
    "scores_dic = {}\n",
    "for i in batter[\"選手名\"]:\n",
    "    scores_dic[i] = scores[i].dropna(axis=0).values"
   ]
  },
  {
   "cell_type": "code",
   "execution_count": 57,
   "metadata": {},
   "outputs": [],
   "source": [
    "scores_dic['test'] = [\"a\", \"b\", \"c\", \"d\", \"e\", \"f\"]"
   ]
  },
  {
   "cell_type": "code",
   "execution_count": 59,
   "metadata": {},
   "outputs": [
    {
     "output_type": "execute_result",
     "data": {
      "text/plain": "{'田中広': array(['三振', '三振', '一ゴ', '左安'], dtype=object),\n '菊池涼': array(['三ゴ', '左安', '二ゴ', '三振'], dtype=object),\n '坂倉': array(['遊飛', '二併', '三振', '中安'], dtype=object),\n '曽根': array([], dtype=object),\n '鈴木誠': array(['右飛', '中安', '左飛', '二飛'], dtype=object),\n '松山': array(['遊ゴ', '左安', '遊直', '左安'], dtype=object),\n '上本': array([], dtype=object),\n '長野': array(['右飛', '左本', '三振', '二直'], dtype=object),\n '堂林': array(['遊ゴ', '二ゴ', '中飛', '中飛'], dtype=object),\n '大盛': array(['左2', '中飛', '三振'], dtype=object),\n 'ピレラ': array(['中飛'], dtype=object),\n '磯村': array([], dtype=object),\n 'test': ['a', 'b', 'c', 'd', 'e', 'f']}"
     },
     "metadata": {},
     "execution_count": 59
    }
   ],
   "source": [
    "scores_dic"
   ]
  },
  {
   "cell_type": "code",
   "execution_count": null,
   "metadata": {},
   "outputs": [],
   "source": []
  }
 ]
}